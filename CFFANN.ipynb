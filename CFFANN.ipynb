{
 "cells": [
  {
   "cell_type": "code",
   "execution_count": null,
   "id": "eda0ae34-bf03-492c-a5c1-04a77cc9f509",
   "metadata": {},
   "outputs": [],
   "source": [
    "# A test for CFFANN"
   ]
  },
  {
   "cell_type": "code",
   "execution_count": null,
   "id": "3d3d4fcf-70d6-448c-bd87-8ee703147233",
   "metadata": {},
   "outputs": [],
   "source": [
    "import torch\n",
    "import torch.nn as nn\n",
    "import torch.optim as optim\n",
    "\n",
    "from config import *\n",
    "from model import CascadedFFN\n",
    "from dataset import MyDataset"
   ]
  },
  {
   "cell_type": "code",
   "execution_count": null,
   "id": "529c2cce",
   "metadata": {},
   "outputs": [],
   "source": [
    "dataSet = MyDataset()\n",
    "dataSet.features.shape, dataSet.labels.shape"
   ]
  },
  {
   "cell_type": "code",
   "execution_count": null,
   "id": "5ae48512",
   "metadata": {},
   "outputs": [],
   "source": [
    "CFFN = CascadedFFN(input_dim, output_dim)"
   ]
  },
  {
   "cell_type": "code",
   "execution_count": null,
   "id": "ea269eb4",
   "metadata": {},
   "outputs": [],
   "source": [
    "loss = nn.MSELoss()  # 均方误差\n",
    "trainer = torch.optim.SGD(CFFN.parameters(), lr=learning_rate)"
   ]
  },
  {
   "cell_type": "code",
   "execution_count": null,
   "id": "2d83da74-3158-40cf-98b2-7f5c5da60eee",
   "metadata": {},
   "outputs": [],
   "source": [
    "# 训练\n",
    "for neuron_count in range(max_neurons):\n",
    "    # 添加新神经元\n",
    "    CFFN.add_neuron()\n",
    "    \n",
    "    # 创建优化器，仅训练当前可更新的参数\n",
    "    trainable_params = []\n",
    "    trainable_params.extend(list(CFFN.hidden_layers[-1].parameters()))\n",
    "    trainable_params.extend(list(CFFN.output_layer.parameters()))\n",
    "    optimizer = optim.Adam(trainable_params, lr=0.01)\n",
    "    \n",
    "    # 训练当前阶段\n",
    "    for epoch in range(epochs_per_neuron):\n",
    "        optimizer.zero_grad()\n",
    "        outputs = CFFN(X_train)\n",
    "        loss = criterion(outputs, y_train)\n",
    "        loss.backward()\n",
    "        optimizer.step()\n",
    "        print(f\"Neuron {neuron_count+1}, Epoch {epoch+1}, Loss: {loss.item():.4f}\")"
   ]
  }
 ],
 "metadata": {
  "kernelspec": {
   "display_name": "GA",
   "language": "python",
   "name": "python3"
  },
  "language_info": {
   "codemirror_mode": {
    "name": "ipython",
    "version": 3
   },
   "file_extension": ".py",
   "mimetype": "text/x-python",
   "name": "python",
   "nbconvert_exporter": "python",
   "pygments_lexer": "ipython3",
   "version": "3.11.9"
  }
 },
 "nbformat": 4,
 "nbformat_minor": 5
}
