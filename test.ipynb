{
 "cells": [
  {
   "cell_type": "code",
   "execution_count": 2,
   "metadata": {},
   "outputs": [],
   "source": [
    "import torch\n",
    "from torch import nn\n",
    "import numpy as np"
   ]
  },
  {
   "cell_type": "code",
   "execution_count": 5,
   "metadata": {},
   "outputs": [
    {
     "data": {
      "text/plain": [
       "tensor([[9., 9., 9.],\n",
       "        [9., 9., 9.]])"
      ]
     },
     "execution_count": 5,
     "metadata": {},
     "output_type": "execute_result"
    }
   ],
   "source": [
    "loss = nn.MSELoss(reduction=\"none\")\n",
    "\n",
    "x = torch.tensor([[1, 2, 3], [4, 5, 6]], dtype=torch.float)\n",
    "y = torch.tensor([[4, 5, 6], [7, 8, 9]], dtype=torch.float)\n",
    "loss(x, y)"
   ]
  },
  {
   "cell_type": "code",
   "execution_count": 6,
   "metadata": {},
   "outputs": [],
   "source": [
    "from trainerFunc import Accumulator\n",
    "metric = Accumulator(2)  # loss、预测总数"
   ]
  },
  {
   "cell_type": "code",
   "execution_count": 7,
   "metadata": {},
   "outputs": [
    {
     "data": {
      "text/plain": [
       "(54.0, 6.0, 9.0)"
      ]
     },
     "execution_count": 7,
     "metadata": {},
     "output_type": "execute_result"
    }
   ],
   "source": [
    "for X, Y in zip(x, y):\n",
    "    y_hat = X\n",
    "    l = loss(X, Y)\n",
    "    metric.add(l.sum(), Y.numel())\n",
    "metric[0], metric[1], metric[0]/metric[1]"
   ]
  },
  {
   "cell_type": "code",
   "execution_count": 8,
   "metadata": {},
   "outputs": [
    {
     "data": {
      "text/plain": [
       "tensor([[ -77.1779],\n",
       "        [ 226.8538],\n",
       "        [ 315.3170],\n",
       "        [  18.4541],\n",
       "        [ 312.8523],\n",
       "        [ -87.7938],\n",
       "        [-124.8834],\n",
       "        [ 283.6834],\n",
       "        [ 357.4269],\n",
       "        [-225.6395],\n",
       "        [  41.3017],\n",
       "        [  -3.6140],\n",
       "        [-290.8939],\n",
       "        [-367.5145],\n",
       "        [  12.2325],\n",
       "        [-220.0126],\n",
       "        [ -39.7919],\n",
       "        [ -31.1474],\n",
       "        [-249.2807],\n",
       "        [  27.3257],\n",
       "        [ 350.5575],\n",
       "        [ 371.4196],\n",
       "        [  32.5705],\n",
       "        [ -69.6429],\n",
       "        [ -96.9898],\n",
       "        [ 204.8238],\n",
       "        [-241.4446],\n",
       "        [ 353.4027],\n",
       "        [ 280.3108],\n",
       "        [ 300.8915],\n",
       "        [-187.8919],\n",
       "        [ 412.9201],\n",
       "        [ -49.1787],\n",
       "        [-391.6966],\n",
       "        [-141.3921],\n",
       "        [  -8.6848],\n",
       "        [ 427.9270],\n",
       "        [  45.0235],\n",
       "        [-350.3795],\n",
       "        [  40.7777],\n",
       "        [ 296.6710],\n",
       "        [ 254.3805],\n",
       "        [-343.8944],\n",
       "        [ 315.7792],\n",
       "        [ 473.6645],\n",
       "        [  34.7694],\n",
       "        [-189.3779],\n",
       "        [-130.9816],\n",
       "        [ 358.5891],\n",
       "        [  41.5042],\n",
       "        [-264.3031],\n",
       "        [ 181.8815],\n",
       "        [ 118.7261],\n",
       "        [ -12.6603],\n",
       "        [ 416.6217],\n",
       "        [  73.8447],\n",
       "        [-404.4176],\n",
       "        [ 183.6219],\n",
       "        [ 179.6663],\n",
       "        [ 323.2442],\n",
       "        [ 447.1441],\n",
       "        [ -20.3875],\n",
       "        [ -41.1110],\n",
       "        [ -13.1488],\n",
       "        [ 426.4998],\n",
       "        [-147.1882],\n",
       "        [  11.3284],\n",
       "        [-159.7551],\n",
       "        [ 420.3997],\n",
       "        [ -11.7445],\n",
       "        [ 144.0532],\n",
       "        [  84.8566],\n",
       "        [   7.3714],\n",
       "        [ -96.2155],\n",
       "        [ 130.1703],\n",
       "        [  23.8810],\n",
       "        [ -62.6333],\n",
       "        [-145.7188],\n",
       "        [   4.2655],\n",
       "        [ 271.6769],\n",
       "        [   6.6867],\n",
       "        [ 239.3916],\n",
       "        [ 428.8528],\n",
       "        [ 409.2188],\n",
       "        [-164.5896],\n",
       "        [-232.8861],\n",
       "        [ -40.9001],\n",
       "        [  85.0086],\n",
       "        [ 155.0085],\n",
       "        [ 192.2196],\n",
       "        [ -72.7834],\n",
       "        [-186.6940],\n",
       "        [-422.2952],\n",
       "        [ 289.1657],\n",
       "        [ 442.3510],\n",
       "        [ -92.6994],\n",
       "        [   9.3611],\n",
       "        [-141.4023],\n",
       "        [  22.2153],\n",
       "        [ 541.0005]])"
      ]
     },
     "execution_count": 8,
     "metadata": {},
     "output_type": "execute_result"
    }
   ],
   "source": [
    "num_examples = 100\n",
    "x1 = torch.FloatTensor(num_examples).uniform_(-20, 20)\n",
    "x2 = torch.FloatTensor(num_examples).uniform_(-15, 15)\n",
    "features = torch.stack([x1, x2], dim=1)\n",
    "labels = (\n",
    "    1.5 * x1**2 - 2 * x2**2 + 1  # + torch.randn(num_examples) * 0.01\n",
    ").reshape(num_examples, 1)\n",
    "labels"
   ]
  },
  {
   "cell_type": "code",
   "execution_count": 10,
   "metadata": {},
   "outputs": [
    {
     "data": {
      "text/plain": [
       "tensor(191.1400)"
      ]
     },
     "execution_count": 10,
     "metadata": {},
     "output_type": "execute_result"
    }
   ],
   "source": [
    "torch.abs(labels).mean()"
   ]
  },
  {
   "cell_type": "code",
   "execution_count": null,
   "metadata": {},
   "outputs": [],
   "source": []
  }
 ],
 "metadata": {
  "kernelspec": {
   "display_name": "AI",
   "language": "python",
   "name": "python3"
  },
  "language_info": {
   "codemirror_mode": {
    "name": "ipython",
    "version": 3
   },
   "file_extension": ".py",
   "mimetype": "text/x-python",
   "name": "python",
   "nbconvert_exporter": "python",
   "pygments_lexer": "ipython3",
   "version": "3.11.11"
  }
 },
 "nbformat": 4,
 "nbformat_minor": 2
}
