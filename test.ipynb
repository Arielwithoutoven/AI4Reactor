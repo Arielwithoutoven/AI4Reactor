{
 "cells": [
  {
   "cell_type": "code",
   "execution_count": null,
   "metadata": {},
   "outputs": [],
   "source": [
    "from config import device\n",
    "device"
   ]
  },
  {
   "cell_type": "code",
   "execution_count": null,
   "metadata": {},
   "outputs": [],
   "source": [
    "import torch\n",
    "\n",
    "# 设置随机种子（确保可重复性）\n",
    "torch.manual_seed(42)\n",
    "\n",
    "# 定义样本数量和输入范围\n",
    "n_samples = 1000  # 样本数量\n",
    "low = -5.0  # 输入特征的最小值\n",
    "high = 5.0  # 输入特征的最大值\n",
    "\n",
    "# 生成输入特征 x1 和 x2（均匀分布）\n",
    "x1 = torch.FloatTensor(n_samples).uniform_(low, high)\n",
    "x2 = torch.FloatTensor(n_samples).uniform_(low, high)\n",
    "\n",
    "# 合并 x1 和 x2 为输入矩阵 X（形状：[n_samples, 2]）\n",
    "X = torch.stack([x1, x2], dim=1)\n",
    "\n",
    "# 根据公式计算 y（y = x1^2 - x2^2 - 6）\n",
    "y = x1**2 - x2**2 - 6\n",
    "\n",
    "# 打印示例数据\n",
    "print(\"输入特征 X 的维度:\", X.shape)\n",
    "print(\"标签 y 的维度:\", y.shape)\n",
    "print(\"\\n前5个样本的输入和标签:\")\n",
    "for i in range(5):\n",
    "    print(f\"样本 {i+1}: X = {X[i].numpy()}, y = {y[i].item():.2f}\")"
   ]
  },
  {
   "cell_type": "code",
   "execution_count": 1,
   "metadata": {},
   "outputs": [
    {
     "data": {
      "text/plain": [
       "'1.0.3'"
      ]
     },
     "execution_count": 1,
     "metadata": {},
     "output_type": "execute_result"
    }
   ],
   "source": [
    "import d2l\n",
    "d2l.__version__"
   ]
  },
  {
   "cell_type": "code",
   "execution_count": null,
   "metadata": {},
   "outputs": [],
   "source": [
    "import numpy as np\n",
    "x = np.array([0.5, 1.0, 1.5, 2.0, 2.5])\n",
    "y = np.array([1.35, 0.9, 1.3, 2.0, 3.5])"
   ]
  },
  {
   "cell_type": "code",
   "execution_count": null,
   "metadata": {},
   "outputs": [],
   "source": [
    "y.sum()"
   ]
  },
  {
   "cell_type": "code",
   "execution_count": null,
   "metadata": {},
   "outputs": [],
   "source": [
    "x.sum()"
   ]
  },
  {
   "cell_type": "code",
   "execution_count": null,
   "metadata": {},
   "outputs": [],
   "source": [
    "(x**3).sum()"
   ]
  },
  {
   "cell_type": "code",
   "execution_count": null,
   "metadata": {},
   "outputs": [],
   "source": [
    "(x**4).sum()"
   ]
  },
  {
   "cell_type": "code",
   "execution_count": null,
   "metadata": {},
   "outputs": [],
   "source": [
    "(x*y).sum()"
   ]
  },
  {
   "cell_type": "code",
   "execution_count": null,
   "metadata": {},
   "outputs": [],
   "source": [
    "(x**2).sum()"
   ]
  },
  {
   "cell_type": "code",
   "execution_count": null,
   "metadata": {},
   "outputs": [],
   "source": [
    "(y*x**2).sum()"
   ]
  },
  {
   "cell_type": "code",
   "execution_count": null,
   "metadata": {},
   "outputs": [],
   "source": [
    "A = np.array([[5, 7.5], [7.5, 13.75]])\n",
    "b = np.array([9.05, 16.275])\n",
    "np.linalg.solve(A, b)"
   ]
  },
  {
   "cell_type": "code",
   "execution_count": null,
   "metadata": {},
   "outputs": [],
   "source": [
    "A = np.array([[5, 7.5, 13.75], [7.5, 13.75, 28.125], [13.75, 28.125, 61.1875]])\n",
    "b = np.array([9.05, 16.275, 34.0375])\n",
    "np.linalg.solve(A, b)"
   ]
  },
  {
   "cell_type": "code",
   "execution_count": null,
   "metadata": {},
   "outputs": [],
   "source": []
  }
 ],
 "metadata": {
  "kernelspec": {
   "display_name": "GA",
   "language": "python",
   "name": "python3"
  },
  "language_info": {
   "codemirror_mode": {
    "name": "ipython",
    "version": 3
   },
   "file_extension": ".py",
   "mimetype": "text/x-python",
   "name": "python",
   "nbconvert_exporter": "python",
   "pygments_lexer": "ipython3",
   "version": "3.11.9"
  }
 },
 "nbformat": 4,
 "nbformat_minor": 2
}
